{
 "cells": [
  {
   "cell_type": "markdown",
   "id": "4024fcc6",
   "metadata": {},
   "source": [
    "\n",
    "# Small-Guard Interior Scoring — 2024–2025 & Historical Context\n",
    "\n",
    "This notebook reproduces the data cleaning and analysis used for the blog post.  \n",
    "It assumes the following files are present in the **working directory**:\n",
    "\n",
    "- `Rosters 2024-2025-2.xlsx`\n",
    "- `Shooting 2024-2025.xlsx` (with sheets **Total Shooting** and **16 ft or less_2024-2025**)\n",
    "- `Players under 6-1 with 15+ minutes per game.xlsx - Players under 6-1 with 15+ minutes per game.xls.csv`\n",
    "\n",
    "All plots use **matplotlib** only (no seaborn), and we avoid setting specific colors unless noted.\n"
   ]
  },
  {
   "cell_type": "code",
   "execution_count": null,
   "id": "1eb93f35",
   "metadata": {},
   "outputs": [],
   "source": [
    "\n",
    "import re\n",
    "import pandas as pd\n",
    "import numpy as np\n",
    "import matplotlib.pyplot as plt\n",
    "\n",
    "# Display options\n",
    "pd.set_option('display.max_columns', 200)\n"
   ]
  },
  {
   "cell_type": "markdown",
   "id": "aa6e49f6",
   "metadata": {},
   "source": [
    "## Load datasets"
   ]
  },
  {
   "cell_type": "code",
   "execution_count": null,
   "id": "0af49ddb",
   "metadata": {},
   "outputs": [],
   "source": [
    "\n",
    "ROSTER_PATH = \"Rosters 2024-2025-2.xlsx\"\n",
    "SHOOTING_PATH = \"Shooting 2024-2025.xlsx\"\n",
    "HIST_CSV = \"Players under 6-1 with 15+ minutes per game.xlsx - Players under 6-1 with 15+ minutes per game.xls.csv\"\n",
    "\n",
    "# Shooting data\n",
    "total_shooting = pd.read_excel(SHOOTING_PATH, sheet_name='Total Shooting')\n",
    "close_shooting = pd.read_excel(SHOOTING_PATH, sheet_name='16 ft or less_2024-2025')\n",
    "\n",
    "# Rosters (read height as string to avoid Excel date coercion)\n",
    "rosters = pd.read_excel(ROSTER_PATH, sheet_name='Rosters', dtype={'Ht': str})\n",
    "\n",
    "# Historical small guards\n",
    "hist = pd.read_csv(HIST_CSV)\n",
    "print(total_shooting.shape, close_shooting.shape, rosters.shape, hist.shape)\n"
   ]
  },
  {
   "cell_type": "markdown",
   "id": "edf1ed5c",
   "metadata": {},
   "source": [
    "## Helper: convert height strings to inches"
   ]
  },
  {
   "cell_type": "code",
   "execution_count": null,
   "id": "4c883951",
   "metadata": {},
   "outputs": [],
   "source": [
    "\n",
    "def height_str_to_inches(ht):\n",
    "    \"\"\"Convert height strings (e.g., '6-1', '7-0', \"2001-07-04\") to inches.\n",
    "    Treat YYYY-MM-DD as month=feet, day=inches (Excel header hiccup case).\n",
    "    \"\"\"\n",
    "    if pd.isna(ht):\n",
    "        return np.nan\n",
    "    s = str(ht).strip()\n",
    "    if s == '' or s.lower() == 'nan':\n",
    "        return np.nan\n",
    "    # Excel-like date header (YYYY-MM-DD)\n",
    "    m = re.match(r\"^(\\d{4})-(\\d{2})-(\\d{2})\", s)\n",
    "    if m:\n",
    "        feet = int(m.group(2)); inches = int(m.group(3))\n",
    "        return feet * 12 + inches\n",
    "    # '6-4' or 6'4\" or smart apostrophe\n",
    "    m2 = re.match(r\"^(\\d+)\\s*[-’']\\s*(\\d+)\\s*\\\"?\\s*$\", s)\n",
    "    if m2:\n",
    "        feet = int(m2.group(1)); inches = int(m2.group(2))\n",
    "        return feet * 12 + inches\n",
    "    return np.nan\n",
    "\n",
    "# Add Height_in to rosters\n",
    "rosters['Height_in'] = rosters['Ht'].apply(height_str_to_inches)\n",
    "rosters[['Player','Ht','Height_in']].head()\n"
   ]
  },
  {
   "cell_type": "markdown",
   "id": "e991aacb",
   "metadata": {},
   "source": [
    "## Prepare joins and fix mislabeled '3–10' columns"
   ]
  },
  {
   "cell_type": "code",
   "execution_count": null,
   "id": "fe3b734e",
   "metadata": {},
   "outputs": [],
   "source": [
    "\n",
    "# Make sure ID column matches label across frames\n",
    "total = total_shooting.rename(columns={'ID': 'Player-additional'}).copy()\n",
    "\n",
    "# In some exports, the two '3-10' columns are parsed as datetimes in the header.\n",
    "# Strategy: find columns between '0-3' and '16-3P' blocks.\n",
    "cols = list(total.columns)\n",
    "\n",
    "def try_rename_three_ten(df):\n",
    "    cols = list(df.columns)\n",
    "    try:\n",
    "        idx_0_3 = cols.index('0-3')               # %FGA from 0–3\n",
    "        idx_0_3p = cols.index('0-3.1')            # FG% from 0–3\n",
    "        # The next columns after those are the 3–10 metrics that came in as datetime headers.\n",
    "        # We'll find the first non-string right after idx_0_3 and idx_0_3p and rename them.\n",
    "        # 3–10 %FGA\n",
    "        for j in range(idx_0_3+1, min(idx_0_3+5, len(cols))):\n",
    "            if not isinstance(cols[j], str):\n",
    "                df = df.rename(columns={cols[j]: '3-10 %FGA'})\n",
    "                break\n",
    "        # 3–10 FG%\n",
    "        for j in range(idx_0_3p+1, min(idx_0_3p+5, len(cols))):\n",
    "            if not isinstance(cols[j], str):\n",
    "                df = df.rename(columns={cols[j]: '3-10 FG%'})\n",
    "                break\n",
    "    except ValueError:\n",
    "        # If columns not found, do nothing\n",
    "        pass\n",
    "    return df\n",
    "\n",
    "total = try_rename_three_ten(total)\n",
    "\n",
    "# Merge Height onto total & close datasets\n",
    "height_df = rosters[['Player-additional','Height_in']]\n",
    "total_h = total.merge(height_df, on='Player-additional', how='left')\n",
    "close_h = close_shooting.merge(height_df, on='Player-additional', how='left')\n",
    "\n",
    "total_h.columns[:20], '3-10 %FGA' in total_h.columns, '3-10 FG%' in total_h.columns\n"
   ]
  },
  {
   "cell_type": "markdown",
   "id": "39cb358e",
   "metadata": {},
   "source": [
    "## Chart: Distribution of NBA Player Heights (2024–2025)"
   ]
  },
  {
   "cell_type": "code",
   "execution_count": null,
   "id": "9215eb7e",
   "metadata": {},
   "outputs": [],
   "source": [
    "\n",
    "heights = pd.to_numeric(rosters['Height_in'], errors='coerce').dropna()\n",
    "plt.figure(figsize=(8,5))\n",
    "plt.hist(heights, bins=range(int(heights.min()), int(heights.max())+2, 1))\n",
    "plt.title(\"Distribution of NBA Player Heights (2024-2025)\")\n",
    "plt.xlabel(\"Height (inches)\")\n",
    "plt.ylabel(\"Number of Players\")\n",
    "plt.grid(True)\n",
    "plt.show()\n"
   ]
  },
  {
   "cell_type": "markdown",
   "id": "2dbc15b1",
   "metadata": {},
   "source": [
    "## Chart: Distribution of NBA Guard Heights (2024–2025 Season)"
   ]
  },
  {
   "cell_type": "code",
   "execution_count": null,
   "id": "8594a87d",
   "metadata": {},
   "outputs": [],
   "source": [
    "\n",
    "guards = rosters[rosters['Pos'] == 'G'].copy()\n",
    "g_heights = pd.to_numeric(guards['Height_in'], errors='coerce').dropna()\n",
    "plt.figure(figsize=(8,5))\n",
    "plt.hist(g_heights, bins=range(int(g_heights.min()), int(g_heights.max())+2, 1))\n",
    "plt.title(\"Distribution of NBA Guard Heights (2024-2025 Season)\")\n",
    "plt.xlabel(\"Height (inches)\")\n",
    "plt.ylabel(\"Number of Players\")\n",
    "plt.grid(True)\n",
    "plt.show()\n"
   ]
  },
  {
   "cell_type": "markdown",
   "id": "ed36521c",
   "metadata": {},
   "source": [
    "## Chart: Height Vs. Average Shot Distance (2024–2025) — ≥15 MPG"
   ]
  },
  {
   "cell_type": "code",
   "execution_count": null,
   "id": "353cd398",
   "metadata": {},
   "outputs": [],
   "source": [
    "\n",
    "df = total_h.copy()\n",
    "df['MPG'] = df['MP'] / df['G']\n",
    "filtered = df[(df['MPG'] >= 15) & df['Height_in'].notna() & df['Dist.'].notna()]\n",
    "plt.figure(figsize=(8,6))\n",
    "plt.scatter(filtered['Height_in'], filtered['Dist.'], alpha=0.6)\n",
    "plt.title(\"Height Vs. Average Shot Distance (2024-2025)\\nAmong players with at least 15 minutes per game\")\n",
    "plt.xlabel(\"Height (inches)\")\n",
    "plt.ylabel(\"Average Shot Distance (ft)\")\n",
    "plt.grid(True)\n",
    "plt.show()\n"
   ]
  },
  {
   "cell_type": "markdown",
   "id": "c57bcc3b",
   "metadata": {},
   "source": [
    "## Chart: Top 10 pure guards by two-point attempt share — 2024–2025 | ≥15 MPG, ≥41 GP"
   ]
  },
  {
   "cell_type": "code",
   "execution_count": null,
   "id": "05f2fb9e",
   "metadata": {},
   "outputs": [],
   "source": [
    "\n",
    "g = rosters[rosters['Pos'] == 'G'].copy()\n",
    "g['MPG'] = g['MP'] / g['G']\n",
    "# Ensure numeric\n",
    "g['2PA'] = pd.to_numeric(g['2PA'], errors='coerce')\n",
    "g['FGA'] = pd.to_numeric(g['FGA'], errors='coerce')\n",
    "g = g[(g['MPG'] >= 15) & (g['G'] >= 41) & (g['FGA'] > 0)].copy()\n",
    "g['2PA_Share'] = g['2PA'] / g['FGA']\n",
    "\n",
    "top10 = g.sort_values('2PA_Share', ascending=False).head(10)\n",
    "\n",
    "# Plot\n",
    "order = top10.sort_values('2PA_Share', ascending=True)\n",
    "plt.figure(figsize=(8,6))\n",
    "plt.barh(order['Player'], order['2PA_Share'])\n",
    "plt.xlabel(\"Two-Point Attempt Share\")\n",
    "plt.title(\"Top 10 Pure Guards by Two-Point Attempt Share\\n2024-2025 NBA season | ≥15 MPG, ≥41 Games Played\")\n",
    "plt.xlim(0,1)\n",
    "# Labels\n",
    "for y,(name,val) in enumerate(zip(order['Player'], order['2PA_Share'])):\n",
    "    plt.text(val+0.01, y, f\"{val:.1%}\", va='center')\n",
    "plt.grid(True, axis='x')\n",
    "plt.tight_layout()\n",
    "plt.show()\n"
   ]
  },
  {
   "cell_type": "markdown",
   "id": "e6b82232",
   "metadata": {},
   "source": [
    "## Chart: Pure Guards (≥15 MPG, ≥41 GP) — 2P Attempt share vs 2P FG% | 2024–2025 Season"
   ]
  },
  {
   "cell_type": "code",
   "execution_count": null,
   "id": "5d72df6b",
   "metadata": {},
   "outputs": [],
   "source": [
    "\n",
    "g2 = rosters[rosters['Pos'] == 'G'].copy()\n",
    "g2['MPG'] = g2['MP'] / g2['G']\n",
    "# Numerics\n",
    "g2['2PA'] = pd.to_numeric(g2['2PA'], errors='coerce')\n",
    "g2['FGA'] = pd.to_numeric(g2['FGA'], errors='coerce')\n",
    "g2['2P']  = pd.to_numeric(g2['2P'],  errors='coerce')\n",
    "g2 = g2[(g2['MPG'] >= 15) & (g2['G'] >= 41) & (g2['FGA'] > 0) & (g2['2PA'] > 0)].copy()\n",
    "\n",
    "g2['2PA_Share'] = g2['2PA'] / g2['FGA']\n",
    "g2['2P_FG_pct'] = g2['2P'] / g2['2PA']\n",
    "\n",
    "# Use same top-10 by 2PA share as above\n",
    "names = list(top10['Player'])\n",
    "subset = g2[g2['Player'].isin(names)].copy()\n",
    "subset = subset.set_index('Player').loc[names].reset_index()  # keep order\n",
    "\n",
    "x = np.arange(len(subset))\n",
    "width = 0.4\n",
    "fig, ax = plt.subplots(figsize=(10,6))\n",
    "bars1 = ax.bar(x - width/2, subset['2PA_Share'], width, label='2PA Share')\n",
    "bars2 = ax.bar(x + width/2, subset['2P_FG_pct'], width, label='2P FG%')\n",
    "ax.set_ylabel(\"Percentage\")\n",
    "ax.set_title(\"Pure Guards (≥15 MPG, ≥41 GP)\\n2P Attempt share vs 2P FG% | 2024-2025 Season\")\n",
    "ax.set_xticks(x)\n",
    "ax.set_xticklabels(subset['Player'], rotation=45, ha='right')\n",
    "ax.set_ylim(0,1.05)\n",
    "ax.legend()\n",
    "for b in list(bars1)+list(bars2):\n",
    "    h = b.get_height()\n",
    "    ax.annotate(f\"{h:.1%}\", (b.get_x()+b.get_width()/2, h), textcoords='offset points', xytext=(0,3), ha='center')\n",
    "plt.tight_layout()\n",
    "plt.show()\n"
   ]
  },
  {
   "cell_type": "markdown",
   "id": "47960487",
   "metadata": {},
   "source": [
    "## Chart: Under 6-1 Guards (≥15 MPG, ≥41 GP since 2000) — 2P share vs 2P FG% (≥90% 2P share, ≥50% 2P%)"
   ]
  },
  {
   "cell_type": "code",
   "execution_count": null,
   "id": "64fd5b96",
   "metadata": {},
   "outputs": [],
   "source": [
    "\n",
    "df = hist.copy()\n",
    "# Keep filters\n",
    "df_f = df[(df['G'] >= 41) & (df['MP/G'] >= 15)].copy()\n",
    "# use slightly relaxed cutoff to admit 89.9% seasons, but show title as ≥90%\n",
    "df_f = df_f[(df_f['2pshare'] >= 0.899) & (df_f['2P%'] >= 0.5)].copy()\n",
    "df_f['2pshare'] = df_f['2pshare'].round(3)\n",
    "df_f = df_f.sort_values('2pshare', ascending=False)\n",
    "\n",
    "x = np.arange(len(df_f))\n",
    "width = 0.4\n",
    "fig, ax = plt.subplots(figsize=(12,6))\n",
    "b1 = ax.bar(x - width/2, df_f['2pshare'], width, label='2P Share')\n",
    "b2 = ax.bar(x + width/2, df_f['2P%'], width, label='2P FG%')\n",
    "ax.set_ylabel(\"Percentage\")\n",
    "ax.set_title(\"Under 6-1 Guards (≥15 MPG, ≥41 GP since 2000)\\n2P Share vs 2P FG% (≥90% 2P Share, ≥50% 2P%)\")\n",
    "ax.set_xticks(x)\n",
    "ax.set_xticklabels(df_f['Player'] + ' ' + df_f['Season'], rotation=45, ha='right')\n",
    "ax.set_ylim(0,1.05)\n",
    "ax.legend()\n",
    "for b in list(b1)+list(b2):\n",
    "    h = b.get_height()\n",
    "    ax.annotate(f\"{h:.1%}\", (b.get_x()+b.get_width()/2, h), textcoords='offset points', xytext=(0,3), ha='center')\n",
    "plt.tight_layout()\n",
    "plt.show()\n",
    "\n",
    "df_f[['Player','Season','G','MP/G','2pshare','2P%']].reset_index(drop=True).head(20)\n"
   ]
  }
 ],
 "metadata": {},
 "nbformat": 4,
 "nbformat_minor": 5
}
