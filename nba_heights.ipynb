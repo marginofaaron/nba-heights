{
 "cells": [
  {
   "cell_type": "markdown",
   "id": "76792c7c",
   "metadata": {},
   "source": [
    "# NBA Height Vs. Shot Location\n",
    "A comparative analysis of how player height is related to their shot selection"
   ]
  },
  {
   "cell_type": "markdown",
   "id": "3b410517",
   "metadata": {},
   "source": [
    "## Get rosters"
   ]
  },
  {
   "cell_type": "code",
   "execution_count": 23,
   "id": "8f4d4efd",
   "metadata": {},
   "outputs": [
    {
     "name": "stdout",
     "output_type": "stream",
     "text": [
      "   No.              Player Pos    Ht   Wt          Birth Date  Birth Exp  \\\n",
      "0    0     Dominick Barlow  SF   6-9  221        May 26, 2003  us US   2   \n",
      "1   13  Bogdan BogdanoviÄ  SG   6-5  220     August 18, 1992  rs RS   7   \n",
      "2    4         Kobe Bufkin  SG   6-4  195  September 21, 2003  us US   1   \n",
      "3   15        Clint Capela   C  6-10  240        May 18, 1994  ch CH  10   \n",
      "4    5       Dyson Daniels  SG   6-8  199      March 17, 2003  au AU   2   \n",
      "\n",
      "    College  \n",
      "0       NaN  \n",
      "1       NaN  \n",
      "2  Michigan  \n",
      "3       NaN  \n",
      "4       NaN  \n"
     ]
    }
   ],
   "source": [
    "import pandas as pd\n",
    "import requests\n",
    "from bs4 import BeautifulSoup\n",
    "from io import StringIO\n",
    "\n",
    "# Get roster of one team as an example\n",
    "\n",
    "url = \"https://www.basketball-reference.com/teams/ATL/2025.html\"\n",
    "\n",
    "# Get the HTML page\n",
    "response = requests.get(url)\n",
    "soup = BeautifulSoup(response.text, \"html.parser\")\n",
    "\n",
    "# Find the roster table by its ID\n",
    "table = soup.find(\"table\", {\"id\": \"roster\"})\n",
    "\n",
    "# Convert the HTML table to a DataFrame using StringIO\n",
    "df = pd.read_html(StringIO(str(table)))[0]\n",
    "\n",
    "# Show the result\n",
    "print(df.head())"
   ]
  },
  {
   "cell_type": "code",
   "execution_count": 24,
   "id": "5c192a39",
   "metadata": {},
   "outputs": [
    {
     "name": "stdout",
     "output_type": "stream",
     "text": [
      "['ATL', 'BOS', 'BRK', 'CHI', 'CHO', 'CLE', 'DAL', 'DEN', 'DET', 'GSW', 'HOU', 'IND', 'LAC', 'LAL', 'MEM', 'MIA', 'MIL', 'MIN', 'NOP', 'NYK', 'OKC', 'ORL', 'PHI', 'PHO', 'POR', 'SAC', 'SAS', 'TOR', 'UTA', 'WAS']\n"
     ]
    }
   ],
   "source": [
    "# List of NBA team abbreviations (2024)\n",
    "nba_team_abbr = [\n",
    "    \"ATL\", \"BOS\", \"BRK\", \"CHI\", \"CHO\", \"CLE\", \"DAL\", \"DEN\", \"DET\", \"GSW\",\n",
    "    \"HOU\", \"IND\", \"LAC\", \"LAL\", \"MEM\", \"MIA\", \"MIL\", \"MIN\", \"NOP\", \"NYK\",\n",
    "    \"OKC\", \"ORL\", \"PHI\", \"PHO\", \"POR\", \"SAC\", \"SAS\", \"TOR\", \"UTA\", \"WAS\"\n",
    "]\n",
    "print(nba_team_abbr)"
   ]
  },
  {
   "cell_type": "code",
   "execution_count": 25,
   "id": "fcaaf31a",
   "metadata": {},
   "outputs": [
    {
     "name": "stdout",
     "output_type": "stream",
     "text": [
      "['https://www.basketball-reference.com/teams/ATL/2025.html', 'https://www.basketball-reference.com/teams/BOS/2025.html', 'https://www.basketball-reference.com/teams/BRK/2025.html', 'https://www.basketball-reference.com/teams/CHI/2025.html', 'https://www.basketball-reference.com/teams/CHO/2025.html', 'https://www.basketball-reference.com/teams/CLE/2025.html', 'https://www.basketball-reference.com/teams/DAL/2025.html', 'https://www.basketball-reference.com/teams/DEN/2025.html', 'https://www.basketball-reference.com/teams/DET/2025.html', 'https://www.basketball-reference.com/teams/GSW/2025.html', 'https://www.basketball-reference.com/teams/HOU/2025.html', 'https://www.basketball-reference.com/teams/IND/2025.html', 'https://www.basketball-reference.com/teams/LAC/2025.html', 'https://www.basketball-reference.com/teams/LAL/2025.html', 'https://www.basketball-reference.com/teams/MEM/2025.html', 'https://www.basketball-reference.com/teams/MIA/2025.html', 'https://www.basketball-reference.com/teams/MIL/2025.html', 'https://www.basketball-reference.com/teams/MIN/2025.html', 'https://www.basketball-reference.com/teams/NOP/2025.html', 'https://www.basketball-reference.com/teams/NYK/2025.html', 'https://www.basketball-reference.com/teams/OKC/2025.html', 'https://www.basketball-reference.com/teams/ORL/2025.html', 'https://www.basketball-reference.com/teams/PHI/2025.html', 'https://www.basketball-reference.com/teams/PHO/2025.html', 'https://www.basketball-reference.com/teams/POR/2025.html', 'https://www.basketball-reference.com/teams/SAC/2025.html', 'https://www.basketball-reference.com/teams/SAS/2025.html', 'https://www.basketball-reference.com/teams/TOR/2025.html', 'https://www.basketball-reference.com/teams/UTA/2025.html', 'https://www.basketball-reference.com/teams/WAS/2025.html']\n"
     ]
    }
   ],
   "source": [
    "# Generate URLs for all teams\n",
    "urls = [f\"https://www.basketball-reference.com/teams/{team}/2025.html\" for team in nba_team_abbr]\n",
    "print(urls)\n"
   ]
  },
  {
   "cell_type": "code",
   "execution_count": 26,
   "id": "89cc451b",
   "metadata": {},
   "outputs": [],
   "source": [
    "# List to store each team's roster DataFrame\n",
    "team_rosters = []\n",
    "\n",
    "for abbr, url in zip(nba_team_abbr, urls):\n",
    "    response = requests.get(url)\n",
    "    soup = BeautifulSoup(response.text, \"html.parser\")\n",
    "    table = soup.find(\"table\", {\"id\": \"roster\"})\n",
    "    if table is not None:\n",
    "        df_team = pd.read_html(StringIO(str(table)))[0]\n",
    "        df_team[\"Team\"] = abbr  # Add team abbreviation column\n",
    "        team_rosters.append(df_team)\n",
    "    else:\n",
    "        team_rosters.append(None)  # In case the roster table is missing"
   ]
  },
  {
   "cell_type": "code",
   "execution_count": 27,
   "id": "27328d1a",
   "metadata": {
    "vscode": {
     "languageId": "markdown"
    }
   },
   "outputs": [
    {
     "name": "stdout",
     "output_type": "stream",
     "text": [
      "  No.              Player Pos    Ht   Wt          Birth Date  Birth Exp  \\\n",
      "0   0     Dominick Barlow  SF   6-9  221        May 26, 2003  us US   2   \n",
      "1  13  Bogdan BogdanoviÄ  SG   6-5  220     August 18, 1992  rs RS   7   \n",
      "2   4         Kobe Bufkin  SG   6-4  195  September 21, 2003  us US   1   \n",
      "3  15        Clint Capela   C  6-10  240        May 18, 1994  ch CH  10   \n",
      "4   5       Dyson Daniels  SG   6-8  199      March 17, 2003  au AU   2   \n",
      "\n",
      "    College Team  \n",
      "0       NaN  ATL  \n",
      "1       NaN  ATL  \n",
      "2  Michigan  ATL  \n",
      "3       NaN  ATL  \n",
      "4       NaN  ATL  \n"
     ]
    }
   ],
   "source": [
    "# Combine all non-None DataFrames in team_rosters into a single DataFrame\n",
    "all_players_df = pd.concat([df for df in team_rosters if df is not None], ignore_index=True)\n",
    "print(all_players_df.head())"
   ]
  },
  {
   "cell_type": "markdown",
   "id": "8712c95b",
   "metadata": {},
   "source": [
    "## Get Shooting Data"
   ]
  }
 ],
 "metadata": {
  "kernelspec": {
   "display_name": "Python 3",
   "language": "python",
   "name": "python3"
  },
  "language_info": {
   "codemirror_mode": {
    "name": "ipython",
    "version": 3
   },
   "file_extension": ".py",
   "mimetype": "text/x-python",
   "name": "python",
   "nbconvert_exporter": "python",
   "pygments_lexer": "ipython3",
   "version": "3.12.1"
  }
 },
 "nbformat": 4,
 "nbformat_minor": 5
}
