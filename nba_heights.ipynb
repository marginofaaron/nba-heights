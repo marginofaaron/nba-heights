{
 "cells": [
  {
   "cell_type": "markdown",
   "id": "76792c7c",
   "metadata": {},
   "source": [
    "# NBA Height Vs. Shot Location\n",
    "A comparative analysis of how player height is related to their shot selection"
   ]
  },
  {
   "cell_type": "markdown",
   "id": "3b410517",
   "metadata": {},
   "source": [
    "## Get rosters"
   ]
  },
  {
   "cell_type": "markdown",
   "id": "8712c95b",
   "metadata": {},
   "source": [
    "## Get Shooting Data"
   ]
  }
 ],
 "metadata": {
  "kernelspec": {
   "display_name": "Python 3",
   "language": "python",
   "name": "python3"
  },
  "language_info": {
   "codemirror_mode": {
    "name": "ipython",
    "version": 3
   },
   "file_extension": ".py",
   "mimetype": "text/x-python",
   "name": "python",
   "nbconvert_exporter": "python",
   "pygments_lexer": "ipython3",
   "version": "3.12.1"
  }
 },
 "nbformat": 4,
 "nbformat_minor": 5
}
